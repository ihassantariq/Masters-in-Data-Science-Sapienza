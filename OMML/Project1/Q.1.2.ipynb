{
 "cells": [
  {
   "cell_type": "code",
   "execution_count": 1,
   "metadata": {},
   "outputs": [
    {
     "name": "stdout",
     "output_type": "stream",
     "text": [
      "MSE = 0.03728297457800048\n"
     ]
    },
    {
     "data": {
      "text/plain": [
       "<Figure size 1200x800 with 1 Axes>"
      ]
     },
     "metadata": {},
     "output_type": "display_data"
    },
    {
     "name": "stdout",
     "output_type": "stream",
     "text": [
      "\n",
      "Saving results in output_question_1_1.txt\n"
     ]
    },
    {
     "data": {
      "text/plain": [
       "<Figure size 640x480 with 1 Axes>"
      ]
     },
     "metadata": {},
     "output_type": "display_data"
    }
   ],
   "source": [
    "import numpy as np\n",
    "import pandas as pd\n",
    "import functions_question_1_2 as f\n",
    "\n",
    "import warnings\n",
    "warnings.filterwarnings(\"ignore\")\n",
    "\n",
    "input_dim = 2\n",
    "output_dim = 1\n",
    "N = [12]#[i for i in range(8,17,4)]\n",
    "S = [1.2]#[0.5,1.2,2]\n",
    "R = [10e-5]#[10e-5,10e-4,10e-3]\n",
    "\n",
    "X_tr, y_tr, X_ts, y_ts = f.data_set()\n",
    "\n",
    "test_error, train_error, train_time, n, s, r, c, v, FE, GE, error, terror = f.gridsearch(X_tr, y_tr, X_ts, y_ts, input_dim,output_dim,N,S,R)\n",
    "\n",
    "print('MSE = {}'.format(test_error))\n",
    "\n",
    "f.plotting('graph_question_1_2.png',c,v,s)\n",
    "f.writetxt('output_question_1_2.txt', n, s, r, 'BFGS', train_error, test_error, train_time, FE, GE)\n",
    "f.writejson('model_1_2.json', c, v, n, s, r)\n",
    "f.ovunfit(N,S,R,s,r,error,terror)"
   ]
  },
  {
   "cell_type": "code",
   "execution_count": null,
   "metadata": {},
   "outputs": [],
   "source": []
  }
 ],
 "metadata": {
  "kernelspec": {
   "display_name": "Python 3",
   "language": "python",
   "name": "python3"
  },
  "language_info": {
   "codemirror_mode": {
    "name": "ipython",
    "version": 3
   },
   "file_extension": ".py",
   "mimetype": "text/x-python",
   "name": "python",
   "nbconvert_exporter": "python",
   "pygments_lexer": "ipython3",
   "version": "3.7.3"
  }
 },
 "nbformat": 4,
 "nbformat_minor": 2
}
