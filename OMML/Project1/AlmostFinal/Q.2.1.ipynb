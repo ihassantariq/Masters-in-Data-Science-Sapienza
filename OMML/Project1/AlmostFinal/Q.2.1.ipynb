{
 "cells": [
  {
   "cell_type": "code",
   "execution_count": 1,
   "metadata": {},
   "outputs": [
    {
     "name": "stdout",
     "output_type": "stream",
     "text": [
      "MSE = 0.04984160911850059 \n",
      "\n",
      "Training Finished\n"
     ]
    },
    {
     "data": {
      "text/plain": [
       "<Figure size 1200x800 with 1 Axes>"
      ]
     },
     "metadata": {},
     "output_type": "display_data"
    },
    {
     "name": "stdout",
     "output_type": "stream",
     "text": [
      "\n",
      "Saving results in output_question_2_1.txt\n"
     ]
    },
    {
     "data": {
      "text/plain": [
       "<Figure size 640x480 with 1 Axes>"
      ]
     },
     "metadata": {},
     "output_type": "display_data"
    }
   ],
   "source": [
    "import numpy as np\n",
    "import pandas as pd\n",
    "import functions_question_2_1 as f\n",
    "\n",
    "\n",
    "import warnings\n",
    "warnings.filterwarnings(\"ignore\")\n",
    "\n",
    "neurons = 24\n",
    "sigma = 2.4\n",
    "rho = 10e-5\n",
    "\n",
    "X_tr, y_tr, X_ts, y_ts = f.data_set()\n",
    "test_error, train_error, train_time, w, v, b, FE, GE, error, terror = f.XLearn(X_tr, y_tr, X_ts, y_ts, neurons, rho, sigma, 2, 1, 50)\n",
    "\n",
    "\n",
    "print('MSE = {} '.format(test_error))\n",
    "print(\"\\nTraining Finished\")\n",
    "\n",
    "f.writejson(\"model_2_1.json\", w, b, v, neurons, sigma, rho)\n",
    "\n",
    "f.plotting('graph_question_2_1.png',w,b,v,sigma)\n",
    "\n",
    "f.writetxt('output_question_2_1.txt', neurons, sigma, rho, 'BFGS', train_error, test_error, train_time, FE, GE)\n",
    "\n",
    "f.ovunfit(50,error,terror)"
   ]
  },
  {
   "cell_type": "code",
   "execution_count": null,
   "metadata": {},
   "outputs": [],
   "source": []
  }
 ],
 "metadata": {
  "kernelspec": {
   "display_name": "Python 3",
   "language": "python",
   "name": "python3"
  },
  "language_info": {
   "codemirror_mode": {
    "name": "ipython",
    "version": 3
   },
   "file_extension": ".py",
   "mimetype": "text/x-python",
   "name": "python",
   "nbconvert_exporter": "python",
   "pygments_lexer": "ipython3",
   "version": "3.7.3"
  }
 },
 "nbformat": 4,
 "nbformat_minor": 2
}
